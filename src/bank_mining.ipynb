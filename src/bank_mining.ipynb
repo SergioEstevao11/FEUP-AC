{
 "cells": [
  {
   "cell_type": "markdown",
   "metadata": {},
   "source": [
    "# Data Mining Project - Bank"
   ]
  },
  {
   "cell_type": "markdown",
   "metadata": {},
   "source": [
    "## Project Developed by:\n",
    "- *Duarte Sardão*\n",
    "- *Gabriel Ferreira*\n",
    "- *Miguel Lopes*\n",
    "- *Sérgio Estêvão*"
   ]
  },
  {
   "cell_type": "markdown",
   "metadata": {},
   "source": [
    "## Table of Contents\n",
    "1. Business Understanding"
   ]
  },
  {
   "cell_type": "markdown",
   "metadata": {},
   "source": [
    "### Business Understanding\n",
    "\n"
   ]
  },
  {
   "cell_type": "markdown",
   "metadata": {},
   "source": []
  },
  {
   "cell_type": "code",
   "execution_count": 1,
   "metadata": {},
   "outputs": [],
   "source": [
    "import pandas as pd"
   ]
  },
  {
   "cell_type": "code",
   "execution_count": 37,
   "metadata": {},
   "outputs": [
    {
     "name": "stderr",
     "output_type": "stream",
     "text": [
      "/tmp/ipykernel_6415/1854141767.py:2: DtypeWarning: Columns (8) have mixed types. Specify dtype option on import or set low_memory=False.\n",
      "  transactions = pd.read_csv(\"./data/trans_dev.csv\", sep=\";\")\n"
     ]
    },
    {
     "name": "stdout",
     "output_type": "stream",
     "text": [
      "transactions:  396685\n",
      "dispositions:  5369\n",
      "clients:  5369\n",
      "cards:  177\n",
      "==== After clean-up ====\n",
      "transactions:  372191\n",
      "dispositions:  4966\n",
      "clients:  403\n",
      "cards:  11\n"
     ]
    }
   ],
   "source": [
    "loan = pd.read_csv(\"./data/loan_dev.csv\", sep=\";\")\n",
    "transactions = pd.read_csv(\"./data/trans_dev.csv\", sep=\";\")\n",
    "accounts = pd.read_csv(\"./data/account.csv\", sep=\";\")\n",
    "cards = pd.read_csv(\"./data/card_dev.csv\", sep=\";\")\n",
    "clients = pd.read_csv(\"./data/client.csv\", sep=\";\")\n",
    "dispositions = pd.read_csv(\"./data/disp.csv\", sep=\";\")\n",
    "districts = pd.read_csv(\"./data/district.csv\", sep=\";\")\n",
    "\n",
    "print(\"transactions: \", len(transactions))\n",
    "print(\"dispositions: \", len(dispositions))\n",
    "print(\"clients: \", len(clients))\n",
    "print(\"cards: \", len(cards))\n",
    "\n",
    "#Clean up information not associated with loans\n",
    "\n",
    "for id in loan['account_id'].unique():\n",
    "    transactions = transactions[transactions.account_id != id]\n",
    "    dispositions = dispositions[dispositions.account_id != id]\n",
    "\n",
    "for client_id in dispositions['client_id'].unique():\n",
    "    clients = clients[clients.client_id != client_id]\n",
    "\n",
    "for disp_id in dispositions['disp_id'].unique():\n",
    "    cards = cards[cards.disp_id != disp_id]\n",
    "\n",
    "print(\"==== After clean-up ====\")\n",
    "print(\"transactions: \", len(transactions))\n",
    "print(\"dispositions: \", len(dispositions))\n",
    "print(\"clients: \", len(clients))\n",
    "print(\"cards: \", len(cards))\n"
   ]
  },
  {
   "cell_type": "code",
   "execution_count": null,
   "metadata": {},
   "outputs": [],
   "source": []
  }
 ],
 "metadata": {
  "kernelspec": {
   "display_name": "Python 3.10.4 64-bit",
   "language": "python",
   "name": "python3"
  },
  "language_info": {
   "codemirror_mode": {
    "name": "ipython",
    "version": 3
   },
   "file_extension": ".py",
   "mimetype": "text/x-python",
   "name": "python",
   "nbconvert_exporter": "python",
   "pygments_lexer": "ipython3",
   "version": "3.10.4"
  },
  "orig_nbformat": 4,
  "vscode": {
   "interpreter": {
    "hash": "916dbcbb3f70747c44a77c7bcd40155683ae19c65e1c03b4aa3499c5328201f1"
   }
  }
 },
 "nbformat": 4,
 "nbformat_minor": 2
}
